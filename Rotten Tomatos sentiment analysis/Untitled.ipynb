{
 "cells": [
  {
   "cell_type": "code",
   "execution_count": 2,
   "metadata": {},
   "outputs": [],
   "source": [
    "import urllib3, requests, json\n",
    "\n",
    "# retrieve your wml_service_credentials_username, wml_service_credentials_password, and wml_service_credentials_url from the\n",
    "# Service credentials associated with your IBM Cloud Watson Machine Learning Service instance\n",
    "\n",
    "wml_credentials={\n",
    "\"url\": \"https://ibm-watson-ml.eu-gb.bluemix.net\",\n",
    "\"username\": \"270d768a-a938-4882-820c-ceef95546bc5\",\n",
    "\"password\": \"3f6ecf41-73aa-49c9-bef6-29258d629be4\"\n",
    "}\n"
   ]
  },
  {
   "cell_type": "code",
   "execution_count": 4,
   "metadata": {},
   "outputs": [
    {
     "name": "stdout",
     "output_type": "stream",
     "text": [
      "Scoring response\n",
      "{'status_code': 400, 'trace': '361332399', 'errors': [{'message': \"Incorrect input data: Cannot cast array data from dtype('float64') to dtype('<U32') according to the rule 'safe'\", 'code': 'invalid_input_data'}]}\n"
     ]
    }
   ],
   "source": [
    "headers = urllib3.util.make_headers(basic_auth='{username}:{password}'.format(username=wml_credentials['username'], password=wml_credentials['password']))\n",
    "url = '{}/v3/identity/token'.format(wml_credentials['url'])\n",
    "response = requests.get(url, headers=headers)\n",
    "mltoken = json.loads(response.text).get('token')\n",
    "\n",
    "header = {'Content-Type': 'application/json', 'Authorization': 'Bearer ' + mltoken}\n",
    "\n",
    "# NOTE: manually define and pass the array(s) of values to be scored in the next line\n",
    "payload_scoring = {\"fields\": [\"Unnamed: 0\", \"PhraseId\", \"SentenceId\", \"Phrase\"], \"values\": [[3,5,7,\"Good\"]]}\n",
    "\n",
    "response_scoring = requests.post('https://ibm-watson-ml.eu-gb.bluemix.net/v3/wml_instances/8a87102d-c3d2-4ce3-a700-be904c6a5e6d/published_models/c96f3c20-32bd-4309-87a2-8737ed25c5e9/deployments/8584716c-784e-4ef9-b202-536b53bec05c/online', json=payload_scoring, headers=header)\n",
    "print(\"Scoring response\")\n",
    "print(json.loads(response_scoring.text))"
   ]
  },
  {
   "cell_type": "code",
   "execution_count": null,
   "metadata": {},
   "outputs": [],
   "source": []
  }
 ],
 "metadata": {
  "kernelspec": {
   "display_name": "Python 3",
   "language": "python",
   "name": "python3"
  },
  "language_info": {
   "codemirror_mode": {
    "name": "ipython",
    "version": 3
   },
   "file_extension": ".py",
   "mimetype": "text/x-python",
   "name": "python",
   "nbconvert_exporter": "python",
   "pygments_lexer": "ipython3",
   "version": "3.6.5"
  }
 },
 "nbformat": 4,
 "nbformat_minor": 2
}
